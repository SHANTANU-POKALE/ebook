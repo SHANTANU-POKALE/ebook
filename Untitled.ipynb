{
 "cells": [
  {
   "cell_type": "markdown",
   "id": "ad972919-2d5b-4085-b160-016b0c1e33cb",
   "metadata": {},
   "source": [
    "# Loading the book"
   ]
  },
  {
   "cell_type": "code",
   "execution_count": 1,
   "id": "85ca4380-ade8-43de-a39b-29173ae7165b",
   "metadata": {},
   "outputs": [],
   "source": [
    "enc = 'utf-8'\n",
    "with open(\"miracle_in_the_andes.txt\", \"r\",  encoding=enc) as file:\n",
    "    book = file.read()"
   ]
  },
  {
   "cell_type": "markdown",
   "id": "6d6b1d3d-288b-4a64-8444-1da0867dad16",
   "metadata": {},
   "source": [
    "# The  ost used words (non-articles)"
   ]
  },
  {
   "cell_type": "code",
   "execution_count": 2,
   "id": "206611af-0389-4702-9c70-599d67628aa4",
   "metadata": {},
   "outputs": [
    {
     "data": {
      "text/plain": [
       "['chapter', 'before', 'it', 'was', 'friday']"
      ]
     },
     "execution_count": 2,
     "metadata": {},
     "output_type": "execute_result"
    }
   ],
   "source": [
    "import re\n",
    "pattern = re.compile(\"[a-zA-Z]+\")\n",
    "findings = re.findall(pattern, book.lower()) \n",
    "findings[:5]"
   ]
  },
  {
   "cell_type": "code",
   "execution_count": 6,
   "id": "1accda43-edd5-4faf-840a-dbf8d59e5e9e",
   "metadata": {},
   "outputs": [],
   "source": [
    "d = {}\n",
    "for word in findings:\n",
    "    if word in d.keys():\n",
    "        d[word] = d[word] + 1\n",
    "    else:\n",
    "        d[word] = 1"
   ]
  },
  {
   "cell_type": "code",
   "execution_count": 8,
   "id": "5b622047-c002-45c6-a846-e9f6ab0d7507",
   "metadata": {},
   "outputs": [
    {
     "data": {
      "text/plain": [
       "[(5346, 'the'), (2795, 'and'), (2729, 'i'), (2400, 'to'), (2060, 'of')]"
      ]
     },
     "execution_count": 8,
     "metadata": {},
     "output_type": "execute_result"
    }
   ],
   "source": [
    "d_list = [(value, key) for (key, value) in d.items()]\n",
    "d_list = sorted(d_list, reverse = True)\n",
    "d_list [:5]"
   ]
  },
  {
   "cell_type": "code",
   "execution_count": 29,
   "id": "0b49bcac-317d-4e35-8a87-c2ad48c9f3e6",
   "metadata": {},
   "outputs": [
    {
     "name": "stdout",
     "output_type": "stream",
     "text": [
      "Collecting nltk\n",
      "  Downloading nltk-3.8.1-py3-none-any.whl.metadata (2.8 kB)\n",
      "Requirement already satisfied: click in c:\\users\\user\\appdata\\local\\programs\\python\\python312\\lib\\site-packages (from nltk) (8.1.7)\n",
      "Collecting joblib (from nltk)\n",
      "  Downloading joblib-1.4.2-py3-none-any.whl.metadata (5.4 kB)\n",
      "Collecting regex>=2021.8.3 (from nltk)\n",
      "  Downloading regex-2024.5.15-cp312-cp312-win_amd64.whl.metadata (41 kB)\n",
      "     ---------------------------------------- 0.0/42.0 kB ? eta -:--:--\n",
      "     ---------------------------------------- 42.0/42.0 kB 1.0 MB/s eta 0:00:00\n",
      "Collecting tqdm (from nltk)\n",
      "  Downloading tqdm-4.66.4-py3-none-any.whl.metadata (57 kB)\n",
      "     ---------------------------------------- 0.0/57.6 kB ? eta -:--:--\n",
      "     ---------------------------------------- 57.6/57.6 kB 3.2 MB/s eta 0:00:00\n",
      "Requirement already satisfied: colorama in c:\\users\\user\\appdata\\local\\programs\\python\\python312\\lib\\site-packages (from click->nltk) (0.4.6)\n",
      "Downloading nltk-3.8.1-py3-none-any.whl (1.5 MB)\n",
      "   ---------------------------------------- 0.0/1.5 MB ? eta -:--:--\n",
      "   ----------- ---------------------------- 0.4/1.5 MB 8.9 MB/s eta 0:00:01\n",
      "   ------------------------ --------------- 0.9/1.5 MB 9.7 MB/s eta 0:00:01\n",
      "   --------------------------- ------------ 1.0/1.5 MB 9.5 MB/s eta 0:00:01\n",
      "   --------------------------- ------------ 1.0/1.5 MB 9.5 MB/s eta 0:00:01\n",
      "   ------------------------------ --------- 1.2/1.5 MB 4.9 MB/s eta 0:00:01\n",
      "   ------------------------------ --------- 1.2/1.5 MB 4.9 MB/s eta 0:00:01\n",
      "   ------------------------------ --------- 1.2/1.5 MB 4.9 MB/s eta 0:00:01\n",
      "   ------------------------------ --------- 1.2/1.5 MB 4.9 MB/s eta 0:00:01\n",
      "   ------------------------------ --------- 1.2/1.5 MB 4.9 MB/s eta 0:00:01\n",
      "   ------------------------------ --------- 1.2/1.5 MB 4.9 MB/s eta 0:00:01\n",
      "   ------------------------------ --------- 1.2/1.5 MB 4.9 MB/s eta 0:00:01\n",
      "   ------------------------------ --------- 1.2/1.5 MB 4.9 MB/s eta 0:00:01\n",
      "   ------------------------------ --------- 1.2/1.5 MB 4.9 MB/s eta 0:00:01\n",
      "   ------------------------------ --------- 1.2/1.5 MB 4.9 MB/s eta 0:00:01\n",
      "   ------------------------------ --------- 1.2/1.5 MB 4.9 MB/s eta 0:00:01\n",
      "   ------------------------------ --------- 1.2/1.5 MB 4.9 MB/s eta 0:00:01\n",
      "   ------------------------------ --------- 1.2/1.5 MB 4.9 MB/s eta 0:00:01\n",
      "   ------------------------------ --------- 1.2/1.5 MB 4.9 MB/s eta 0:00:01\n",
      "   ------------------------------ --------- 1.2/1.5 MB 4.9 MB/s eta 0:00:01\n",
      "   -------------------------------- ------- 1.2/1.5 MB 1.3 MB/s eta 0:00:01\n",
      "   ------------------------------------ --- 1.4/1.5 MB 1.4 MB/s eta 0:00:01\n",
      "   ---------------------------------------  1.5/1.5 MB 1.5 MB/s eta 0:00:01\n",
      "   ---------------------------------------- 1.5/1.5 MB 1.4 MB/s eta 0:00:00\n",
      "Downloading regex-2024.5.15-cp312-cp312-win_amd64.whl (268 kB)\n",
      "   ---------------------------------------- 0.0/268.5 kB ? eta -:--:--\n",
      "   ------------- -------------------------- 92.2/268.5 kB 5.1 MB/s eta 0:00:01\n",
      "   ------------- -------------------------- 92.2/268.5 kB 5.1 MB/s eta 0:00:01\n",
      "   ------------- -------------------------- 92.2/268.5 kB 5.1 MB/s eta 0:00:01\n",
      "   ------------------------- -------------- 174.1/268.5 kB 1.2 MB/s eta 0:00:01\n",
      "   ------------------------- -------------- 174.1/268.5 kB 1.2 MB/s eta 0:00:01\n",
      "   ------------------------- -------------- 174.1/268.5 kB 1.2 MB/s eta 0:00:01\n",
      "   ------------------------- -------------- 174.1/268.5 kB 1.2 MB/s eta 0:00:01\n",
      "   ------------------------- -------------- 174.1/268.5 kB 1.2 MB/s eta 0:00:01\n",
      "   ------------------------- -------------- 174.1/268.5 kB 1.2 MB/s eta 0:00:01\n",
      "   ------------------------- -------------- 174.1/268.5 kB 1.2 MB/s eta 0:00:01\n",
      "   ------------------------- -------------- 174.1/268.5 kB 1.2 MB/s eta 0:00:01\n",
      "   --------------------------- ---------- 194.6/268.5 kB 357.2 kB/s eta 0:00:01\n",
      "   ---------------------------- --------- 204.8/268.5 kB 336.6 kB/s eta 0:00:01\n",
      "   ------------------------------- ------ 225.3/268.5 kB 344.1 kB/s eta 0:00:01\n",
      "   ------------------------------- ------ 225.3/268.5 kB 344.1 kB/s eta 0:00:01\n",
      "   ------------------------------- ------ 225.3/268.5 kB 344.1 kB/s eta 0:00:01\n",
      "   ---------------------------------- --- 245.8/268.5 kB 307.5 kB/s eta 0:00:01\n",
      "   ---------------------------------- --- 245.8/268.5 kB 307.5 kB/s eta 0:00:01\n",
      "   -------------------------------------- 268.5/268.5 kB 300.6 kB/s eta 0:00:00\n",
      "Downloading joblib-1.4.2-py3-none-any.whl (301 kB)\n",
      "   ---------------------------------------- 0.0/301.8 kB ? eta -:--:--\n",
      "   --------- ------------------------------ 71.7/301.8 kB ? eta -:--:--\n",
      "   ------------------------------------- -- 286.7/301.8 kB 3.5 MB/s eta 0:00:01\n",
      "   ---------------------------------------- 301.8/301.8 kB 2.7 MB/s eta 0:00:00\n",
      "Downloading tqdm-4.66.4-py3-none-any.whl (78 kB)\n",
      "   ---------------------------------------- 0.0/78.3 kB ? eta -:--:--\n",
      "   ---------------------------------------- 78.3/78.3 kB 2.2 MB/s eta 0:00:00\n",
      "Installing collected packages: tqdm, regex, joblib, nltk\n",
      "Successfully installed joblib-1.4.2 nltk-3.8.1 regex-2024.5.15 tqdm-4.66.4\n",
      "Note: you may need to restart the kernel to use updated packages.\n"
     ]
    }
   ],
   "source": [
    "pip install nltk\n"
   ]
  },
  {
   "cell_type": "code",
   "execution_count": 89,
   "id": "4d78b16a-a8e1-432a-b41a-40836184e1c2",
   "metadata": {},
   "outputs": [
    {
     "name": "stderr",
     "output_type": "stream",
     "text": [
      "[nltk_data] Downloading package vader_lexicon to\n",
      "[nltk_data]     C:\\Users\\user\\AppData\\Roaming\\nltk_data...\n",
      "[nltk_data]   Package vader_lexicon is already up-to-date!\n"
     ]
    }
   ],
   "source": [
    "import nltk\n",
    "nltk.download('vader_lexicon')\n",
    "\n",
    "from nltk.corpus import stopwords\n",
    "english_stopwords = stopwords.words(\"english\")"
   ]
  },
  {
   "cell_type": "code",
   "execution_count": 85,
   "id": "49431059-c23f-4204-8c82-9011581c568e",
   "metadata": {},
   "outputs": [],
   "source": [
    "filtered_words = []\n",
    "for count, word in d_list:\n",
    "    if word not in english_stopwords:\n",
    "        filtered_words.append((word, count))"
   ]
  },
  {
   "cell_type": "code",
   "execution_count": 86,
   "id": "a5e9f8f1-486f-46bc-a9e3-0d75ab732038",
   "metadata": {},
   "outputs": [
    {
     "data": {
      "text/plain": [
       "[('would', 575),\n",
       " ('us', 519),\n",
       " ('said', 292),\n",
       " ('roberto', 284),\n",
       " ('could', 252),\n",
       " ('one', 249),\n",
       " ('snow', 227),\n",
       " ('mountain', 183),\n",
       " ('time', 182),\n",
       " ('like', 165)]"
      ]
     },
     "execution_count": 86,
     "metadata": {},
     "output_type": "execute_result"
    }
   ],
   "source": [
    "filtered_words[:10]"
   ]
  },
  {
   "cell_type": "markdown",
   "id": "6b5ef87c-f1a3-4bdf-994b-85f82b3cb8d7",
   "metadata": {},
   "source": [
    "# sentiment analysis: What is the most positive and the most negative chapter?"
   ]
  },
  {
   "cell_type": "code",
   "execution_count": 91,
   "id": "4ec7e994-4ad5-4bf5-a882-b2dd35e3537c",
   "metadata": {},
   "outputs": [],
   "source": [
    "from nltk.sentiment import SentimentIntensityAnalyzer\n",
    "analyzer = SentimentIntensityAnalyzer()"
   ]
  },
  {
   "cell_type": "code",
   "execution_count": 93,
   "id": "a52b4632-0d29-4870-b647-b6a24308a0e9",
   "metadata": {},
   "outputs": [
    {
     "name": "stdout",
     "output_type": "stream",
     "text": [
      "{'neg': 0.184, 'neu': 0.448, 'pos': 0.368, 'compound': 0.5709}\n"
     ]
    }
   ],
   "source": [
    "text = \"Hey, look how good the tree are. I hate them, I really love them.\"\n",
    "scores = analyzer.polarity_scores(text)"
   ]
  },
  {
   "cell_type": "code",
   "execution_count": 99,
   "id": "b7360f78-1fb7-46b6-8bdd-a194a62b80d5",
   "metadata": {},
   "outputs": [
    {
     "name": "stdout",
     "output_type": "stream",
     "text": [
      "It is a positive text\n"
     ]
    }
   ],
   "source": [
    "if scores[\"pos\"] > scores[\"neg\"]:\n",
    "    print(\"It is a positive text\")\n",
    "else:\n",
    "    print(\"It is a negative text\")"
   ]
  },
  {
   "cell_type": "code",
   "execution_count": 100,
   "id": "a71278cb-6201-4c59-8f78-5fbc27a2b9e8",
   "metadata": {},
   "outputs": [
    {
     "data": {
      "text/plain": [
       "{'neg': 0.116, 'neu': 0.76, 'pos': 0.125, 'compound': 1.0}"
      ]
     },
     "execution_count": 100,
     "metadata": {},
     "output_type": "execute_result"
    }
   ],
   "source": [
    "analyzer.polarity_scores(book)"
   ]
  },
  {
   "cell_type": "markdown",
   "id": "1df8af6b-767f-40ea-bca9-b6c6edb35985",
   "metadata": {},
   "source": [
    "### Chapter sentiment analysis"
   ]
  },
  {
   "cell_type": "code",
   "execution_count": 101,
   "id": "d059abef-1565-429b-9245-3db72006373e",
   "metadata": {},
   "outputs": [],
   "source": [
    "import re\n",
    "pattern = re.compile(\"Chapter [0-9]+\")\n",
    "chapter = re.split(pattern, book)"
   ]
  },
  {
   "cell_type": "code",
   "execution_count": null,
   "id": "03f96753-a90d-4507-af92-701a08a55fa8",
   "metadata": {},
   "outputs": [],
   "source": [
    "chapters = chapters[1:]"
   ]
  },
  {
   "cell_type": "code",
   "execution_count": 110,
   "id": "d7e8ec5e-2afa-4af8-81f3-b02cffb6f56a",
   "metadata": {
    "scrolled": true
   },
   "outputs": [
    {
     "name": "stdout",
     "output_type": "stream",
     "text": [
      "{'neg': 0.061, 'neu': 0.779, 'pos': 0.16, 'compound': 1.0}\n",
      "{'neg': 0.12, 'neu': 0.726, 'pos': 0.154, 'compound': 0.9991}\n",
      "{'neg': 0.145, 'neu': 0.751, 'pos': 0.105, 'compound': -0.9999}\n",
      "{'neg': 0.141, 'neu': 0.721, 'pos': 0.138, 'compound': -0.9963}\n",
      "{'neg': 0.118, 'neu': 0.742, 'pos': 0.141, 'compound': 0.9997}\n",
      "{'neg': 0.124, 'neu': 0.761, 'pos': 0.115, 'compound': -0.9979}\n",
      "{'neg': 0.136, 'neu': 0.761, 'pos': 0.103, 'compound': -0.9999}\n",
      "{'neg': 0.12, 'neu': 0.786, 'pos': 0.094, 'compound': -0.9998}\n",
      "{'neg': 0.097, 'neu': 0.824, 'pos': 0.079, 'compound': -0.9996}\n",
      "{'neg': 0.086, 'neu': 0.733, 'pos': 0.181, 'compound': 1.0}\n"
     ]
    }
   ],
   "source": [
    "for chapter in chapters:\n",
    "    scores = analyzer.polarity_scores(chapter)\n",
    "    print(scores)"
   ]
  },
  {
   "cell_type": "code",
   "execution_count": null,
   "id": "397c2811-0e2c-42af-ab7b-1c56aaa10138",
   "metadata": {},
   "outputs": [],
   "source": []
  }
 ],
 "metadata": {
  "kernelspec": {
   "display_name": "Python 3 (ipykernel)",
   "language": "python",
   "name": "python3"
  },
  "language_info": {
   "codemirror_mode": {
    "name": "ipython",
    "version": 3
   },
   "file_extension": ".py",
   "mimetype": "text/x-python",
   "name": "python",
   "nbconvert_exporter": "python",
   "pygments_lexer": "ipython3",
   "version": "3.12.4"
  }
 },
 "nbformat": 4,
 "nbformat_minor": 5
}
